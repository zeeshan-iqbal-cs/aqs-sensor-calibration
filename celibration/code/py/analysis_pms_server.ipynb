{
 "cells": [
  {
   "cell_type": "code",
   "execution_count": 38,
   "metadata": {},
   "outputs": [],
   "source": [
    "import pandas as pd\n",
    "import matplotlib.pyplot as plt"
   ]
  },
  {
   "cell_type": "code",
   "execution_count": 2,
   "metadata": {},
   "outputs": [],
   "source": [
    "DATA_PATH = \"../../DATA+RESULTS/\"\n",
    "SERVER_COLLECTION_1 = \"PMS-SERVER-07-06-2019/\"\n",
    "\n",
    "\n",
    "path = DATA_PATH + SERVER_COLLECTION_1\n",
    "cleanFile = path + \"cleanfile.csv\""
   ]
  },
  {
   "cell_type": "code",
   "execution_count": 72,
   "metadata": {},
   "outputs": [
    {
     "data": {
      "text/html": [
       "<div>\n",
       "<style scoped>\n",
       "    .dataframe tbody tr th:only-of-type {\n",
       "        vertical-align: middle;\n",
       "    }\n",
       "\n",
       "    .dataframe tbody tr th {\n",
       "        vertical-align: top;\n",
       "    }\n",
       "\n",
       "    .dataframe thead th {\n",
       "        text-align: right;\n",
       "    }\n",
       "</style>\n",
       "<table border=\"1\" class=\"dataframe\">\n",
       "  <thead>\n",
       "    <tr style=\"text-align: right;\">\n",
       "      <th></th>\n",
       "      <th>timestamp</th>\n",
       "      <th>device_id</th>\n",
       "      <th>aqi</th>\n",
       "      <th>temperature</th>\n",
       "      <th>humidity</th>\n",
       "      <th>pm1</th>\n",
       "      <th>pm25</th>\n",
       "      <th>pm10</th>\n",
       "    </tr>\n",
       "  </thead>\n",
       "  <tbody>\n",
       "    <tr>\n",
       "      <th>0</th>\n",
       "      <td>2019-03-13 21:59:59</td>\n",
       "      <td>1</td>\n",
       "      <td>129</td>\n",
       "      <td>24.8</td>\n",
       "      <td>41.2</td>\n",
       "      <td>30</td>\n",
       "      <td>47</td>\n",
       "      <td>62</td>\n",
       "    </tr>\n",
       "    <tr>\n",
       "      <th>1</th>\n",
       "      <td>2019-03-13 22:00:21</td>\n",
       "      <td>1</td>\n",
       "      <td>129</td>\n",
       "      <td>24.8</td>\n",
       "      <td>41.1</td>\n",
       "      <td>30</td>\n",
       "      <td>47</td>\n",
       "      <td>62</td>\n",
       "    </tr>\n",
       "    <tr>\n",
       "      <th>2</th>\n",
       "      <td>2019-03-13 22:00:43</td>\n",
       "      <td>1</td>\n",
       "      <td>136</td>\n",
       "      <td>24.8</td>\n",
       "      <td>41.1</td>\n",
       "      <td>31</td>\n",
       "      <td>50</td>\n",
       "      <td>66</td>\n",
       "    </tr>\n",
       "    <tr>\n",
       "      <th>3</th>\n",
       "      <td>2019-03-13 22:01:04</td>\n",
       "      <td>1</td>\n",
       "      <td>136</td>\n",
       "      <td>24.8</td>\n",
       "      <td>41.1</td>\n",
       "      <td>32</td>\n",
       "      <td>50</td>\n",
       "      <td>67</td>\n",
       "    </tr>\n",
       "    <tr>\n",
       "      <th>4</th>\n",
       "      <td>2019-03-13 22:01:26</td>\n",
       "      <td>1</td>\n",
       "      <td>136</td>\n",
       "      <td>24.8</td>\n",
       "      <td>41.1</td>\n",
       "      <td>32</td>\n",
       "      <td>50</td>\n",
       "      <td>68</td>\n",
       "    </tr>\n",
       "  </tbody>\n",
       "</table>\n",
       "</div>"
      ],
      "text/plain": [
       "             timestamp  device_id  aqi  temperature  humidity  pm1  pm25  pm10\n",
       "0  2019-03-13 21:59:59          1  129         24.8      41.2   30    47    62\n",
       "1  2019-03-13 22:00:21          1  129         24.8      41.1   30    47    62\n",
       "2  2019-03-13 22:00:43          1  136         24.8      41.1   31    50    66\n",
       "3  2019-03-13 22:01:04          1  136         24.8      41.1   32    50    67\n",
       "4  2019-03-13 22:01:26          1  136         24.8      41.1   32    50    68"
      ]
     },
     "execution_count": 72,
     "metadata": {},
     "output_type": "execute_result"
    }
   ],
   "source": [
    "# Read file\n",
    "dataTable = pd.read_csv(cleanFile)\n",
    "del dataTable['Unnamed: 0']\n",
    "dataTable.head()"
   ]
  },
  {
   "cell_type": "code",
   "execution_count": 73,
   "metadata": {},
   "outputs": [
    {
     "data": {
      "text/plain": [
       "1    706896\n",
       "Name: device_id, dtype: int64"
      ]
     },
     "execution_count": 73,
     "metadata": {},
     "output_type": "execute_result"
    }
   ],
   "source": [
    "# Data points sent by each device\n",
    "dataTable[\"device_id\"].value_counts()"
   ]
  },
  {
   "cell_type": "code",
   "execution_count": 74,
   "metadata": {},
   "outputs": [
    {
     "data": {
      "text/html": [
       "<div>\n",
       "<style scoped>\n",
       "    .dataframe tbody tr th:only-of-type {\n",
       "        vertical-align: middle;\n",
       "    }\n",
       "\n",
       "    .dataframe tbody tr th {\n",
       "        vertical-align: top;\n",
       "    }\n",
       "\n",
       "    .dataframe thead th {\n",
       "        text-align: right;\n",
       "    }\n",
       "</style>\n",
       "<table border=\"1\" class=\"dataframe\">\n",
       "  <thead>\n",
       "    <tr style=\"text-align: right;\">\n",
       "      <th></th>\n",
       "      <th>timestamp</th>\n",
       "      <th>device_id</th>\n",
       "      <th>aqi</th>\n",
       "      <th>temperature</th>\n",
       "      <th>humidity</th>\n",
       "      <th>pm1</th>\n",
       "      <th>pm25</th>\n",
       "      <th>pm10</th>\n",
       "    </tr>\n",
       "  </thead>\n",
       "  <tbody>\n",
       "    <tr>\n",
       "      <th>0</th>\n",
       "      <td>2019-03-13 21:59:59</td>\n",
       "      <td>1</td>\n",
       "      <td>129</td>\n",
       "      <td>24.8</td>\n",
       "      <td>41.2</td>\n",
       "      <td>30</td>\n",
       "      <td>47</td>\n",
       "      <td>62</td>\n",
       "    </tr>\n",
       "    <tr>\n",
       "      <th>1</th>\n",
       "      <td>2019-03-13 22:00:21</td>\n",
       "      <td>1</td>\n",
       "      <td>129</td>\n",
       "      <td>24.8</td>\n",
       "      <td>41.1</td>\n",
       "      <td>30</td>\n",
       "      <td>47</td>\n",
       "      <td>62</td>\n",
       "    </tr>\n",
       "    <tr>\n",
       "      <th>2</th>\n",
       "      <td>2019-03-13 22:00:43</td>\n",
       "      <td>1</td>\n",
       "      <td>136</td>\n",
       "      <td>24.8</td>\n",
       "      <td>41.1</td>\n",
       "      <td>31</td>\n",
       "      <td>50</td>\n",
       "      <td>66</td>\n",
       "    </tr>\n",
       "    <tr>\n",
       "      <th>3</th>\n",
       "      <td>2019-03-13 22:01:04</td>\n",
       "      <td>1</td>\n",
       "      <td>136</td>\n",
       "      <td>24.8</td>\n",
       "      <td>41.1</td>\n",
       "      <td>32</td>\n",
       "      <td>50</td>\n",
       "      <td>67</td>\n",
       "    </tr>\n",
       "    <tr>\n",
       "      <th>4</th>\n",
       "      <td>2019-03-13 22:01:26</td>\n",
       "      <td>1</td>\n",
       "      <td>136</td>\n",
       "      <td>24.8</td>\n",
       "      <td>41.1</td>\n",
       "      <td>32</td>\n",
       "      <td>50</td>\n",
       "      <td>68</td>\n",
       "    </tr>\n",
       "  </tbody>\n",
       "</table>\n",
       "</div>"
      ],
      "text/plain": [
       "            timestamp  device_id  aqi  temperature  humidity  pm1  pm25  pm10\n",
       "0 2019-03-13 21:59:59          1  129         24.8      41.2   30    47    62\n",
       "1 2019-03-13 22:00:21          1  129         24.8      41.1   30    47    62\n",
       "2 2019-03-13 22:00:43          1  136         24.8      41.1   31    50    66\n",
       "3 2019-03-13 22:01:04          1  136         24.8      41.1   32    50    67\n",
       "4 2019-03-13 22:01:26          1  136         24.8      41.1   32    50    68"
      ]
     },
     "execution_count": 74,
     "metadata": {},
     "output_type": "execute_result"
    }
   ],
   "source": [
    "format_str = \"%Y-%m-%d %H:%M:%S\"\n",
    "dataTable[\"timestamp\"] = pd.to_datetime(dataTable[\"timestamp\"], format=format_str, errors='coerce')\n",
    "dataTable.head()"
   ]
  },
  {
   "cell_type": "code",
   "execution_count": 75,
   "metadata": {
    "scrolled": false
   },
   "outputs": [
    {
     "data": {
      "image/png": "[encoded data removed]",
      "text/plain": [
       "<Figure size 432x288 with 1 Axes>"
      ]
     },
     "metadata": {
      "needs_background": "light"
     },
     "output_type": "display_data"
    },
    {
     "data": {
      "image/png": "[encoded data removed]",
      "text/plain": [
       "<Figure size 432x288 with 1 Axes>"
      ]
     },
     "metadata": {
      "needs_background": "light"
     },
     "output_type": "display_data"
    }
   ],
   "source": [
    "dataTable.plot(x='timestamp', y='pm25')\n",
    "dataTable.plot(x='timestamp', y='aqi')\n",
    "plt.show()"
   ]
  },
  {
   "cell_type": "code",
   "execution_count": null,
   "metadata": {},
   "outputs": [],
   "source": []
  }
 ],
 "metadata": {
  "kernelspec": {
   "display_name": "Python 3",
   "language": "python",
   "name": "python3"
  },
  "language_info": {
   "codemirror_mode": {
    "name": "ipython",
    "version": 3
   },
   "file_extension": ".py",
   "mimetype": "text/x-python",
   "name": "python",
   "nbconvert_exporter": "python",
   "pygments_lexer": "ipython3",
   "version": "3.7.3"
  }
 },
 "nbformat": 4,
 "nbformat_minor": 2
}
